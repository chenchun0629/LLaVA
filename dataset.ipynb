{
 "cells": [
  {
   "cell_type": "code",
   "execution_count": 1,
   "id": "49ca2226-7326-4cf8-a521-b5097afad63b",
   "metadata": {},
   "outputs": [
    {
     "name": "stdout",
     "output_type": "stream",
     "text": [
      "Chinese-LLaVA-Vision-Instructions  LLaVA-CC3M-Pretrain-595K  LLaVA-Pretrain\n"
     ]
    }
   ],
   "source": [
    "!ls llm_datasets"
   ]
  },
  {
   "cell_type": "code",
   "execution_count": 16,
   "id": "3155a8a6-9ca3-4ca2-be98-93ada4019353",
   "metadata": {},
   "outputs": [
    {
     "name": "stdout",
     "output_type": "stream",
     "text": [
      "Chinese-LLaVA-Vision-Instructions/LLaVA-CC3M-Pretrain-595K/chat-translated.json\n"
     ]
    }
   ],
   "source": [
    "!ls Chinese-LLaVA-Vision-Instructions/LLaVA-CC3M-Pretrain-595K/chat-translated.json\n",
    "\n",
    "# llm_datasets/Chinese-LLaVA-Vision-Instructions/LLaVA-Instruct-150K/translated/llava_instruct_150k.json  \n",
    "# llm_datasets/Chinese-LLaVA-Vision-Instructions/LLaVA-Instruct-150K/translated/llava_instruct_80k.json"
   ]
  },
  {
   "cell_type": "code",
   "execution_count": 20,
   "id": "0b022724-1f8b-4713-b439-0d1ac8aa4423",
   "metadata": {
    "scrolled": true
   },
   "outputs": [
    {
     "name": "stdout",
     "output_type": "stream",
     "text": [
      "[\n",
      "  {\n",
      "    \"id\": \"GCC_train_002582585\",\n",
      "    \"image\": \"GCC_train_002582585.jpg\",\n",
      "    \"conversations\": [\n",
      "      {\n",
      "        \"from\": \"human\",\n",
      "        \"value\": \"提供给定图像的简要描述。\\n<image>\"\n",
      "      },\n",
      "      {\n",
      "        \"from\": \"gpt\",\n",
      "        \"value\": \"橄榄油是自由使用的健康成分。\"\n",
      "      }\n",
      "    ]\n",
      "  },\n",
      "  {\n",
      "    \"id\": \"GCC_train_002429825\",\n",
      "    \"image\": \"GCC_train_002429825.jpg\",\n",
      "    \"conversations\": [\n",
      "      {\n",
      "        \"from\": \"human\",\n",
      "        \"value\": \"<image>\\n写一篇简短但有益的图片摘要.\"\n",
      "      },\n",
      "      {\n",
      "        \"from\": \"gpt\",\n",
      "        \"value\": \"随机旋转的薄金符号的3D向量豪华字母。\"\n",
      "      }\n",
      "    ]\n",
      "  },\n",
      "  {\n",
      "    \"id\": \"GCC_train_000190697\",\n",
      "    \"image\": \"GCC_train_000190697.jpg\",\n",
      "    \"conversations\": [\n",
      "      {\n",
      "        \"from\": \"human\",\n",
      "        \"value\": \"分享提供图像的简要解释。\\n<image>\"\n",
      "      },\n",
      "      {\n",
      "        \"from\": \"gpt\",\n",
      "        \"value\": \"气候变化——岩石的物理和化学分解。\"\n",
      "      }\n",
      "    ]\n",
      "  },\n",
      "  {\n",
      "    \"id\": \"GCC_train_002503829\",\n",
      "    \"image\": \"GCC_train_002503829.jpg\",\n",
      "    \"conversations\": [\n",
      "      {\n",
      "        \"from\": \"human\",\n",
      "        \"value\": \"简要, 清晰地说明所显示的图片.\\n<image>\"\n"
     ]
    }
   ],
   "source": [
    "!head -n 50  Chinese-LLaVA-Vision-Instructions/LLaVA-CC3M-Pretrain-595K/chat-translated.json"
   ]
  },
  {
   "cell_type": "code",
   "execution_count": 10,
   "id": "4d19462a-f229-45bc-9427-16a1bd8d5ce5",
   "metadata": {},
   "outputs": [
    {
     "name": "stdout",
     "output_type": "stream",
     "text": [
      "Collecting pickleshare\n",
      "  Downloading pickleshare-0.7.5-py2.py3-none-any.whl (6.9 kB)\n",
      "Installing collected packages: pickleshare\n",
      "Successfully installed pickleshare-0.7.5\n",
      "\u001b[33mWARNING: Running pip as the 'root' user can result in broken permissions and conflicting behaviour with the system package manager. It is recommended to use a virtual environment instead: https://pip.pypa.io/warnings/venv\u001b[0m\u001b[33m\n",
      "\u001b[0m\n",
      "\u001b[1m[\u001b[0m\u001b[34;49mnotice\u001b[0m\u001b[1;39;49m]\u001b[0m\u001b[39;49m A new release of pip is available: \u001b[0m\u001b[31;49m23.3.1\u001b[0m\u001b[39;49m -> \u001b[0m\u001b[32;49m23.3.2\u001b[0m\n",
      "\u001b[1m[\u001b[0m\u001b[34;49mnotice\u001b[0m\u001b[1;39;49m]\u001b[0m\u001b[39;49m To update, run: \u001b[0m\u001b[32;49mpython -m pip install --upgrade pip\u001b[0m\n"
     ]
    }
   ],
   "source": [
    "!pip install pickleshare"
   ]
  },
  {
   "cell_type": "code",
   "execution_count": 11,
   "id": "2156ab53-803e-4162-bf81-ec768d05aa6a",
   "metadata": {},
   "outputs": [
    {
     "name": "stdout",
     "output_type": "stream",
     "text": [
      "[Errno 2] No such file or directory: 'llm_datasets'\n",
      "/workspace/llm_datasets\n"
     ]
    },
    {
     "name": "stderr",
     "output_type": "stream",
     "text": [
      "/usr/local/lib/python3.10/dist-packages/IPython/core/magics/osm.py:393: UserWarning: using bookmarks requires you to install the `pickleshare` library.\n",
      "  bkms = self.shell.db.get('bookmarks', {})\n"
     ]
    }
   ],
   "source": [
    "%cd llm_datasets"
   ]
  },
  {
   "cell_type": "code",
   "execution_count": null,
   "id": "fac483c9-d867-4b0d-8d71-e3719bd72d08",
   "metadata": {},
   "outputs": [],
   "source": [
    "# merge chinese to llava-pretrain\n",
    "# merge \n",
    "# /workspace/llm_datasets/Chinese-LLaVA-Vision-Instructions/LLaVA-CC3M-Pretrain-595K/chat-translated.json\n",
    "# to\n",
    "# /workspace/llm_datasets/LLaVA-Pretrain/blip_laion_cc_sbu_558k.json"
   ]
  },
  {
   "cell_type": "code",
   "execution_count": 18,
   "id": "cb5a4920-77d7-4248-9fa3-8042c2dacd56",
   "metadata": {},
   "outputs": [],
   "source": [
    "# backup\n",
    "!cp /workspace/llm_datasets/LLaVA-Pretrain/blip_laion_cc_sbu_558k.json /workspace/llm_datasets/LLaVA-Pretrain/blip_laion_cc_sbu_558k.json.backup"
   ]
  },
  {
   "cell_type": "code",
   "execution_count": 7,
   "id": "06ed4c3e-f2b9-458b-aefb-11f90877e920",
   "metadata": {},
   "outputs": [
    {
     "name": "stderr",
     "output_type": "stream",
     "text": [
      "100%|██████████| 595375/595375 [00:00<00:00, 1554394.03it/s]\n",
      "100%|██████████| 558128/558128 [00:00<00:00, 2453243.46it/s]\n"
     ]
    }
   ],
   "source": [
    "from pathlib import Path\n",
    "import json\n",
    "from tqdm import tqdm\n",
    "\n",
    "sources = [\n",
    "    {\n",
    "        \"json\": Path('/workspace/llm_datasets/Chinese-LLaVA-Vision-Instructions/LLaVA-CC3M-Pretrain-595K/chat-translated.json'),\n",
    "        \"image\": Path('/workspace/llm_datasets/LLaVA-Pretrain'),\n",
    "        \"flag\": \"cc3m\",\n",
    "    },\n",
    "    {\n",
    "        \"json\": Path('/workspace/llm_datasets/LLaVA-Pretrain/blip_laion_cc_sbu_558k.json'),\n",
    "        \"image\": Path('/workspace/llm_datasets/LLaVA-Pretrain'),\n",
    "        \"flag\": \"laion\",\n",
    "    }\n",
    "    \n",
    "]\n",
    "\n",
    "target = Path('/workspace/llm_datasets/LLaVA-Pretrain/pretrain_data.json')\n",
    "\n",
    "output = []\n",
    "for source in sources:\n",
    "    with source['json'].open('r', encoding='utf-8') as fp:\n",
    "        data = json.load(fp)\n",
    "        for row in tqdm(data):\n",
    "            if source['flag'] == 'cc3m':\n",
    "                row['image'] = f\"images/{row['image']}\"\n",
    "                \n",
    "            # image_file = source['image'] / row['image']\n",
    "            # if not image_file.exists():\n",
    "            #     print(row)\n",
    "            #     continue\n",
    "\n",
    "            output.append(row)\n",
    "\n",
    "\n",
    "with target.open('w', encoding='utf-8') as fp:\n",
    "    json.dump(output, fp, indent=4, ensure_ascii=False)"
   ]
  },
  {
   "cell_type": "code",
   "execution_count": 8,
   "id": "c2d17726-db54-4183-a42e-5b29438390ab",
   "metadata": {},
   "outputs": [
    {
     "name": "stdout",
     "output_type": "stream",
     "text": [
      "447M\t/workspace/llm_datasets/LLaVA-Pretrain/pretrain_data.json\n"
     ]
    }
   ],
   "source": [
    "!du -sh /workspace/llm_datasets/LLaVA-Pretrain/pretrain_data.json"
   ]
  },
  {
   "cell_type": "code",
   "execution_count": 2,
   "id": "d5bad222-2066-4155-8eab-2ba5687ade02",
   "metadata": {},
   "outputs": [
    {
     "name": "stdout",
     "output_type": "stream",
     "text": [
      "Help on function dump in module json:\n",
      "\n",
      "dump(obj, fp, *, skipkeys=False, ensure_ascii=True, check_circular=True, allow_nan=True, cls=None, indent=None, separators=None, default=None, sort_keys=False, **kw)\n",
      "    Serialize ``obj`` as a JSON formatted stream to ``fp`` (a\n",
      "    ``.write()``-supporting file-like object).\n",
      "    \n",
      "    If ``skipkeys`` is true then ``dict`` keys that are not basic types\n",
      "    (``str``, ``int``, ``float``, ``bool``, ``None``) will be skipped\n",
      "    instead of raising a ``TypeError``.\n",
      "    \n",
      "    If ``ensure_ascii`` is false, then the strings written to ``fp`` can\n",
      "    contain non-ASCII characters if they appear in strings contained in\n",
      "    ``obj``. Otherwise, all such characters are escaped in JSON strings.\n",
      "    \n",
      "    If ``check_circular`` is false, then the circular reference check\n",
      "    for container types will be skipped and a circular reference will\n",
      "    result in an ``RecursionError`` (or worse).\n",
      "    \n",
      "    If ``allow_nan`` is false, then it will be a ``ValueError`` to\n",
      "    serialize out of range ``float`` values (``nan``, ``inf``, ``-inf``)\n",
      "    in strict compliance of the JSON specification, instead of using the\n",
      "    JavaScript equivalents (``NaN``, ``Infinity``, ``-Infinity``).\n",
      "    \n",
      "    If ``indent`` is a non-negative integer, then JSON array elements and\n",
      "    object members will be pretty-printed with that indent level. An indent\n",
      "    level of 0 will only insert newlines. ``None`` is the most compact\n",
      "    representation.\n",
      "    \n",
      "    If specified, ``separators`` should be an ``(item_separator, key_separator)``\n",
      "    tuple.  The default is ``(', ', ': ')`` if *indent* is ``None`` and\n",
      "    ``(',', ': ')`` otherwise.  To get the most compact JSON representation,\n",
      "    you should specify ``(',', ':')`` to eliminate whitespace.\n",
      "    \n",
      "    ``default(obj)`` is a function that should return a serializable version\n",
      "    of obj or raise TypeError. The default simply raises TypeError.\n",
      "    \n",
      "    If *sort_keys* is true (default: ``False``), then the output of\n",
      "    dictionaries will be sorted by key.\n",
      "    \n",
      "    To use a custom ``JSONEncoder`` subclass (e.g. one that overrides the\n",
      "    ``.default()`` method to serialize additional types), specify it with\n",
      "    the ``cls`` kwarg; otherwise ``JSONEncoder`` is used.\n",
      "\n"
     ]
    }
   ],
   "source": [
    "import json\n",
    "help(json.dump)"
   ]
  },
  {
   "cell_type": "code",
   "execution_count": null,
   "id": "2f90293a-7859-4529-9233-9b2fee91fb33",
   "metadata": {},
   "outputs": [],
   "source": []
  },
  {
   "cell_type": "code",
   "execution_count": null,
   "id": "7a47ecf1-803d-48e6-865d-556d5d9b9728",
   "metadata": {},
   "outputs": [],
   "source": []
  },
  {
   "cell_type": "code",
   "execution_count": null,
   "id": "851557ec-72b9-4cde-9ab1-509b55c12639",
   "metadata": {},
   "outputs": [],
   "source": []
  }
 ],
 "metadata": {
  "kernelspec": {
   "display_name": "Python 3 (ipykernel)",
   "language": "python",
   "name": "python3"
  },
  "language_info": {
   "codemirror_mode": {
    "name": "ipython",
    "version": 3
   },
   "file_extension": ".py",
   "mimetype": "text/x-python",
   "name": "python",
   "nbconvert_exporter": "python",
   "pygments_lexer": "ipython3",
   "version": "3.10.12"
  }
 },
 "nbformat": 4,
 "nbformat_minor": 5
}
